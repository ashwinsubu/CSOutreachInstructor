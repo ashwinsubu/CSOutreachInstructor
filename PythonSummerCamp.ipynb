{
  "nbformat": 4,
  "nbformat_minor": 0,
  "metadata": {
    "colab": {
      "name": "PythonSummerCamp.ipynb",
      "provenance": [],
      "authorship_tag": "ABX9TyOA1MMN5TrfZ20NFbw6df4k",
      "include_colab_link": true
    },
    "kernelspec": {
      "name": "python3",
      "display_name": "Python 3"
    },
    "accelerator": "TPU"
  },
  "cells": [
    {
      "cell_type": "markdown",
      "metadata": {
        "id": "view-in-github",
        "colab_type": "text"
      },
      "source": [
        "<a href=\"https://colab.research.google.com/github/ashwinsubu/CSOutreachInstructor/blob/main/PythonSummerCamp.ipynb\" target=\"_parent\"><img src=\"https://colab.research.google.com/assets/colab-badge.svg\" alt=\"Open In Colab\"/></a>"
      ]
    },
    {
      "cell_type": "code",
      "metadata": {
        "id": "BTk8EBieqjL9",
        "colab": {
          "base_uri": "https://localhost:8080/",
          "height": 67
        },
        "outputId": "c28c14b3-4aee-472e-877d-165258130cb5"
      },
      "source": [
        "y = '4.5' # a single char a string of len 1\n",
        "z = 3.5 #\n",
        "print(z)\n",
        "z = 'hello' #replace\n",
        "print(z,z,z,z,z,z,z,z,22,333)\n",
        "z = 3.5\n",
        "print(z)\n",
        "x = float(\"5.4\")\n",
        "a =  str(z+x)\n",
        "#boolean\n",
        "d = \"dog\"\n",
        "b = True\n",
        "t = str(b) +\"         \" +  d\n",
        "#print(type(t), t)\n",
        "\n",
        "#print(12 > 3)\n",
        "#print()\n",
        "#print(4 > 7)\n",
        "\n",
        "#boolean - Yes or No-> True or False\n",
        "\n",
        "#type casting int(someVariable) #camelCaseCamelCase\n",
        "#print(x,z,y,\"Jason\",x,x,x,x,x,x,x,x,x,x,x,x)\n",
        "#print(z + x, type(z + x))\n",
        "\n",
        "#<class 'str'> True dog"
      ],
      "execution_count": null,
      "outputs": [
        {
          "output_type": "stream",
          "text": [
            "3.5\n",
            "hello hello hello hello hello hello hello hello 22 333\n",
            "3.5\n"
          ],
          "name": "stdout"
        }
      ]
    },
    {
      "cell_type": "code",
      "metadata": {
        "id": "obXjuzSuG8QO",
        "colab": {
          "base_uri": "https://localhost:8080/",
          "height": 100
        },
        "outputId": "8adf7075-4abb-426b-9631-fa29153915e6"
      },
      "source": [
        "a = 2\n",
        "b = 2\n",
        "c = 5\n",
        "d = 6\n",
        "\n",
        "if d == b:\n",
        "  print(\"d and b are equal\")\n",
        "  print(\"line 2\")\n",
        "elif a != b:\n",
        "  print(\"a and b are equal\")\n",
        "else:\n",
        "  print(\"d and b NOT equal\")\n",
        "  print(\"Line 2 of else\")\n",
        "  x=5\n",
        "  if x == c:\n",
        "    print(\"Jason\")\n",
        "  if b+3 == c:\n",
        "    print(\"Elizabeth\")\n",
        "  else:\n",
        "    print(\"Ameena\")\n",
        "  \n",
        "print(\"Goodbye\")\n",
        "\n",
        "# and, or, ==, >=, >, <=, <, is, is not\n",
        "#conditions if-else\n",
        "age = \n",
        "\n",
        "#age 1-100\n",
        "#less than 10 print i am in kindergarten\n",
        "#age between 10 and 25, print i am in school\n",
        "#age is between 15-20, print i am SMART\n",
        "#age greater 40, print I AM SO OLD\n",
        "#otherwise print I am {38}  years old"
      ],
      "execution_count": null,
      "outputs": [
        {
          "output_type": "stream",
          "text": [
            "d and b NOT equal\n",
            "Line 2 of else\n",
            "Jason\n",
            "Elizabeth\n",
            "Goodbye\n"
          ],
          "name": "stdout"
        }
      ]
    },
    {
      "cell_type": "code",
      "metadata": {
        "id": "jXPyC5qyqE_k",
        "colab": {
          "base_uri": "https://localhost:8080/",
          "height": 67
        },
        "outputId": "029daf3d-7ee7-4fb7-87f6-d72536001b40"
      },
      "source": [
        "#negative age -> print 'age cant be negative'\n",
        "age = -5\n",
        "if age < 0:\n",
        "  print(\"NO NEGATIVES\")\n",
        "if age < 10:\n",
        "  print(\"i am in  kindergarten\")\n",
        "elif 10<=age<=25: #age>=10 and age<=25:  #nested-if: elif or if inside another if\n",
        "  print(\"i am in school\")\n",
        "  if 15<= age <= 20: #\n",
        "    print(\"i am SMART\")\n",
        "if age>40:\n",
        "  print(\"I am SO OLD\")\n",
        "else:\n",
        "  print(\"I am\", age, \"years old\")\n",
        "\n",
        "\n"
      ],
      "execution_count": null,
      "outputs": [
        {
          "output_type": "stream",
          "text": [
            "NO NEGATIVES\n",
            "i am in  kindergarten\n",
            "I am -5 years old\n"
          ],
          "name": "stdout"
        }
      ]
    },
    {
      "cell_type": "code",
      "metadata": {
        "id": "VYrPaxtzHUC0",
        "colab": {
          "base_uri": "https://localhost:8080/",
          "height": 33
        },
        "outputId": "71b233fa-bb48-4e94-8c11-f1bab1ccb23b"
      },
      "source": [
        "a=8\n",
        "b=4\n",
        "#% is called \"MOD\"\n",
        "#remainder of 8/4 ?\n",
        "\n",
        "print(\"A\") if a%b==0 else print(\"B\") #short hand if-else, one liner!"
      ],
      "execution_count": null,
      "outputs": [
        {
          "output_type": "stream",
          "text": [
            "A\n"
          ],
          "name": "stdout"
        }
      ]
    },
    {
      "cell_type": "code",
      "metadata": {
        "id": "58ODkJGQ0wbl",
        "colab": {
          "base_uri": "https://localhost:8080/",
          "height": 50
        },
        "outputId": "f6206686-a2cd-448f-f3ed-9fbf932b04ef"
      },
      "source": [
        "#LOOPS: for, while\n",
        "#i<10?\n",
        "#10<10?\n",
        "#odd numbers? 1,3,5,7,9,11,13....25? print in one line with \",\"\n",
        "#1, 2, 3, 4, 5,6, 7,8,9 -> all even numbers are divisible by 2, odd numbers are not divisible by 2\n",
        "\n",
        "# !=, ==, <=, >=, <,>\n",
        "#number % 2 == 0 its an even number\n",
        "#check the condition-> if statements? inside the for loop\n",
        "# for i in range(5,11): #range(start,end); if u dont give start, start=0 by default\n",
        "  # print(\"Devika\",i, end=\",\")\n",
        "\n",
        "\n",
        "#print A 8 times with space in one line\n",
        "#A A A A A A A A A\n",
        "\n",
        "# for i in range(1,9):\n",
        "#   print(\"A\",end=\" \")\n",
        "\n",
        "\n",
        "#print this: \n",
        "#3A, 4A, 5A, 6A, 7A, 8A, 9A, 10A, 11A\n",
        "# for i in range(3,12):\n",
        "#   print(i, \"A\",end=\", \")\n",
        "\n",
        "# print(\" \")\n",
        "\n",
        "# for i in range(3,12):\n",
        "#   print(str(i) + \"A\",end=\", \")\n",
        "\n",
        "\n",
        "#print \"Elliot 1, Elliot 2.. Elliot 4\" 4 times and next 4 must print \"Jason 5, Jason 6,.. Jason 8\" one LOOP!\n"
      ],
      "execution_count": null,
      "outputs": [
        {
          "output_type": "stream",
          "text": [
            "3 A, 4 A, 5 A, 6 A, 7 A, 8 A, 9 A, 10 A, 11 A,  \n",
            "3A, 4A, 5A, 6A, 7A, 8A, 9A, 10A, 11A, "
          ],
          "name": "stdout"
        }
      ]
    },
    {
      "cell_type": "code",
      "metadata": {
        "id": "h9Mt8kvcTWg_",
        "colab": {
          "base_uri": "https://localhost:8080/",
          "height": 33
        },
        "outputId": "47d6ba7e-3e75-446f-80c2-e31706a70dc2"
      },
      "source": [
        ""
      ],
      "execution_count": null,
      "outputs": [
        {
          "output_type": "stream",
          "text": [
            "Elliot 1, Elliot 2, Elliot 3, Elliot 4, Jason 5, Jason 6, Jason 7, Jason 8, "
          ],
          "name": "stdout"
        }
      ]
    },
    {
      "cell_type": "code",
      "metadata": {
        "id": "chGyaLayRhYa",
        "colab": {
          "base_uri": "https://localhost:8080/",
          "height": 33
        },
        "outputId": "c95b9c32-b69e-4456-949a-8ddea095c586"
      },
      "source": [
        "for i in range(1,9):\n",
        "  if i<=4:\n",
        "    print(\"Elliot\", i ,end=\", \")\n",
        "  else:\n",
        "    print(\"Jason\", i, end=\", \")\n",
        "\n",
        "\n",
        "\n",
        "# range 4-18\n",
        "# 4-10 Kiran number,\n",
        "# 11-14 Fayyad number,\n",
        "# 15-18 Ameena number,\n",
        "# Kiran 4, Kiran 5...Kiran 10, Fayyad 11,... Fayyad 14, Ameena 15,...Ameena 18 \n",
        "# one line printout and one for loop\n",
        "\n",
        "\n"
      ],
      "execution_count": null,
      "outputs": [
        {
          "output_type": "stream",
          "text": [
            "Elliot 1, Elliot 2, Elliot 3, Elliot 4, Jason 5, Jason 6, Jason 7, Jason 8, "
          ],
          "name": "stdout"
        }
      ]
    },
    {
      "cell_type": "code",
      "metadata": {
        "id": "Hn3fM5ZoZGJ2",
        "colab": {
          "base_uri": "https://localhost:8080/",
          "height": 33
        },
        "outputId": "bc578a05-afc6-449b-c9fc-284bc63b38d9"
      },
      "source": [
        "for i in range(4,19):\n",
        "  if i<=10:\n",
        "    print(\"Kiran\",i,end=\", \")\n",
        "  elif i in range(11,15):\n",
        "    print(\"Fayyad\",i, end=\", \")\n",
        "  else:\n",
        "    print(\"Ameena\", i, end=\", \")"
      ],
      "execution_count": null,
      "outputs": [
        {
          "output_type": "stream",
          "text": [
            "Kiran 4, Kiran 5, Kiran 6, Kiran 7, Kiran 8, Kiran 9, Kiran 10, Fayyad 11, Fayyad 12, Fayyad 13, Fayyad 14, Ameena 15, Ameena 16, Ameena 17, Ameena 18, "
          ],
          "name": "stdout"
        }
      ]
    },
    {
      "cell_type": "code",
      "metadata": {
        "id": "5eyQtX2KouUj"
      },
      "source": [
        "#inner for loops\n",
        "# print(\"hi i j\")\n",
        "for i in range(1,10):\n",
        "  for j in range(1,10):\n",
        "    print(j)\n",
        "\n"
      ],
      "execution_count": null,
      "outputs": []
    },
    {
      "cell_type": "code",
      "metadata": {
        "id": "Jhl1Prq_uZ-D",
        "colab": {
          "base_uri": "https://localhost:8080/",
          "height": 167
        },
        "outputId": "7cc56445-7ae7-4995-b14a-3ae8d58c3cc2"
      },
      "source": [
        "#patterns: 8x8 star using 2 for loops\n",
        "for i in range(9):\n",
        "  for j in range(9):\n",
        "    print(\"*\", end=\" \")\n",
        "  print()\n"
      ],
      "execution_count": null,
      "outputs": [
        {
          "output_type": "stream",
          "text": [
            "* * * * * * * * * \n",
            "* * * * * * * * * \n",
            "* * * * * * * * * \n",
            "* * * * * * * * * \n",
            "* * * * * * * * * \n",
            "* * * * * * * * * \n",
            "* * * * * * * * * \n",
            "* * * * * * * * * \n",
            "* * * * * * * * * \n"
          ],
          "name": "stdout"
        }
      ]
    },
    {
      "cell_type": "code",
      "metadata": {
        "id": "mtTscacx0SkS",
        "colab": {
          "base_uri": "https://localhost:8080/",
          "height": 150
        },
        "outputId": "f8fdab86-f54c-4887-e379-0ef8a8da21da"
      },
      "source": [
        "# 8 rows\n",
        "# *\n",
        "# * *\n",
        "# * * *\n",
        "# * * * *\n",
        "# * * * * *\n",
        "\n",
        "for i in range(8):\n",
        "  for j in range(0,i):\n",
        "    print(\"*\", end=\"\")\n",
        "  print()"
      ],
      "execution_count": null,
      "outputs": [
        {
          "output_type": "stream",
          "text": [
            "\n",
            "*\n",
            "**\n",
            "***\n",
            "****\n",
            "*****\n",
            "******\n",
            "*******\n"
          ],
          "name": "stdout"
        }
      ]
    },
    {
      "cell_type": "code",
      "metadata": {
        "id": "V3Q5fU_VAoiH"
      },
      "source": [
        "# for i in range(1,15,5): #range(start, end, jump)\n",
        "#   print(i)\n",
        "\n",
        "for i in range(9,0,-1):\n",
        "  for j in range(0,i):\n",
        "    for k in range (0,j):\n",
        "      print(\"i=\",i,\", j=\",j, \",k =\",k)\n",
        "    print(\"------\", end=\"\\n\")\n",
        "  print()\n",
        "\n",
        "# 9 rows 9 cols:\n",
        "# *********\n",
        "# ********\n",
        "# *******\n",
        "# *****\n",
        "# ****\n",
        "# ***\n",
        "# **\n",
        "# *\n",
        "\n",
        "# -6, -5, -4, -3, -2, -1, 0, 1, 2, 3, 4, 5, 6, 7, 8, 9"
      ],
      "execution_count": null,
      "outputs": []
    },
    {
      "cell_type": "code",
      "metadata": {
        "id": "u5K_ao7RJxCe",
        "colab": {
          "base_uri": "https://localhost:8080/",
          "height": 84
        },
        "outputId": "53b6621b-afb4-447e-ddb8-17355e64229a"
      },
      "source": [
        "#while loops\n",
        "#do something while a condition is true\n",
        "\n",
        "\n",
        "i=1\n",
        "while i<4:\n",
        "  print(i,\"<\",4,i<8)\n",
        "  i=i+1\n",
        "\n",
        "print(i,\"<\",4, i<4,\", outside while loop\")\n",
        "\n",
        "QN1.\n",
        "#Devika 1, Devika 2, ... Devika 8\n",
        "\n",
        "QN2.\n",
        "*\n",
        "**\n",
        "***\n",
        "****\n",
        "8 rows 8 columns\n",
        "with 2 while loops\n",
        "\n",
        "\n",
        "QN3. \n",
        "******\n",
        "*****\n",
        "****\n",
        "***\n",
        "**\n",
        "use 2 while loops"
      ],
      "execution_count": null,
      "outputs": [
        {
          "output_type": "stream",
          "text": [
            "1 < 4 True\n",
            "2 < 4 True\n",
            "3 < 4 True\n",
            "4 < 4 False , outside while loop\n"
          ],
          "name": "stdout"
        }
      ]
    },
    {
      "cell_type": "code",
      "metadata": {
        "id": "FQ2tlYZUO94W",
        "colab": {
          "base_uri": "https://localhost:8080/",
          "height": 33
        },
        "outputId": "fe489dc4-8b02-44ae-a53f-b521ab2add05"
      },
      "source": [
        "i=1\n",
        "while i<=8:\n",
        "  print(\"Devika\",i,end=\", \")\n",
        "  i=i+1"
      ],
      "execution_count": null,
      "outputs": [
        {
          "output_type": "stream",
          "text": [
            "Devika 1, Devika 2, Devika 3, Devika 4, Devika 5, Devika 6, Devika 7, Devika 8, "
          ],
          "name": "stdout"
        }
      ]
    },
    {
      "cell_type": "code",
      "metadata": {
        "id": "WX-XA01C73H9",
        "colab": {
          "base_uri": "https://localhost:8080/",
          "height": 167
        },
        "outputId": "547dd97f-a9c0-42a8-e2da-9d482d4e1ead"
      },
      "source": [
        "i=8\n",
        "while i>=0:\n",
        "  j=0\n",
        "  while j<i:\n",
        "    print(\"*\", end=\" \")\n",
        "    j = j+1\n",
        "  print()\n",
        "  i=i-1\n"
      ],
      "execution_count": null,
      "outputs": [
        {
          "output_type": "stream",
          "text": [
            "* * * * * * * * \n",
            "* * * * * * * \n",
            "* * * * * * \n",
            "* * * * * \n",
            "* * * * \n",
            "* * * \n",
            "* * \n",
            "* \n",
            "\n"
          ],
          "name": "stdout"
        }
      ]
    },
    {
      "cell_type": "code",
      "metadata": {
        "id": "qEJeV5yn8ead",
        "colab": {
          "base_uri": "https://localhost:8080/",
          "height": 167
        },
        "outputId": "74eeb29a-18fb-450d-a626-2b91acd0d50b"
      },
      "source": [
        "i=0\n",
        "while i<=8:\n",
        "  j=0\n",
        "  while j<i:\n",
        "    print(\"*\", end=\"\")\n",
        "    j = j+1\n",
        "  print()\n",
        "  i=i+1"
      ],
      "execution_count": null,
      "outputs": [
        {
          "output_type": "stream",
          "text": [
            "\n",
            "*\n",
            "**\n",
            "***\n",
            "****\n",
            "*****\n",
            "******\n",
            "*******\n",
            "********\n"
          ],
          "name": "stdout"
        }
      ]
    },
    {
      "cell_type": "code",
      "metadata": {
        "id": "8_rJwRoQ9PRR",
        "colab": {
          "base_uri": "https://localhost:8080/",
          "height": 234
        },
        "outputId": "8912dedc-cdc5-453a-8534-ebebe5f35552"
      },
      "source": [
        "#looping from 1 to 20, 13 get out of the loop\n",
        "#break statement : BREAK\n",
        "#skip a number 6 : CONTINUE\n",
        "i=1\n",
        "while i<=20:\n",
        "  if i == 6:\n",
        "    i += 1\n",
        "    continue\n",
        "  print(i)\n",
        "  if i==13:\n",
        "    break #breaking out of the while loop\n",
        "  #i =i+ 1\n",
        "  i+=1\n",
        "print(\"Value of i=\", i)"
      ],
      "execution_count": null,
      "outputs": [
        {
          "output_type": "stream",
          "text": [
            "1\n",
            "2\n",
            "3\n",
            "4\n",
            "5\n",
            "7\n",
            "8\n",
            "9\n",
            "10\n",
            "11\n",
            "12\n",
            "13\n",
            "Value of i= 13\n"
          ],
          "name": "stdout"
        }
      ]
    },
    {
      "cell_type": "code",
      "metadata": {
        "id": "IUY-epCY9b65",
        "colab": {
          "base_uri": "https://localhost:8080/",
          "height": 184
        },
        "outputId": "6570458c-a2aa-484f-9658-b9b543a3a104"
      },
      "source": [
        "# x=30\n",
        "# if x in range(20,40): # if <condition>\n",
        "#   print(\"x is in the range\")\n",
        "\n",
        "for i in range(1,4):\n",
        "  print(\"i=\",i)\n",
        "else:\n",
        "  print(\"end of that for\")\n",
        "x=0\n",
        "while x<=4:\n",
        "  print(\"x=\",x)\n",
        "  x+=1\n",
        "else:\n",
        "  print(\"x is done with WHILE\")"
      ],
      "execution_count": null,
      "outputs": [
        {
          "output_type": "stream",
          "text": [
            "i= 1\n",
            "i= 2\n",
            "i= 3\n",
            "end of that for\n",
            "x= 0\n",
            "x= 1\n",
            "x= 2\n",
            "x= 3\n",
            "x= 4\n",
            "x is done with WHILE\n"
          ],
          "name": "stdout"
        }
      ]
    },
    {
      "cell_type": "code",
      "metadata": {
        "id": "_eC6DvI9Anb0",
        "colab": {
          "base_uri": "https://localhost:8080/",
          "height": 117
        },
        "outputId": "2b81a1b5-ea90-4553-f443-bd93a9cd5f87"
      },
      "source": [
        "#ARRAYS\n",
        "# multiple values in an array\n",
        "#first index starts at 0\n",
        "# p=[0,1,2,3,4,5]\n",
        "x = [3,4,6,8,2,1]\n",
        "# print(x)\n",
        "xy0=\"Elliot\"\n",
        "xy1=\"Ameena\"\n",
        "\n",
        "xy = [xy0, xy1, \"Jason\", \"Devika\",\"Rahul\", \"Munana\"]\n",
        "xy[4] = \"Fayyad\"\n",
        "# print(xy[4])\n",
        "# print(xy)\n",
        "# print(len(xy))\n",
        "\n",
        "# for name in xy:\n",
        "#   print(name)\n",
        "\n",
        "#so if you use a while loop, loop using an index\n",
        "i=0\n",
        "while i<len(xy):\n",
        "  print(xy[i])\n",
        "  i=i+1\n",
        "\n",
        "#ASSIGNMENT\n",
        "#Store \n",
        "# colors 9\n",
        "# when the you're at the 5th color you skip it\n",
        "# and when you are at the 7th color you STOP/ TERMINATE\n",
        "# loop and print out all the colors in the ARRAY\n",
        "# #1. for\n",
        "# #2. while\n",
        "\n",
        "\n",
        "\n",
        "\n",
        "\n",
        "\n",
        "\n",
        "\n",
        "\n",
        "\n",
        "\n"
      ],
      "execution_count": null,
      "outputs": [
        {
          "output_type": "stream",
          "text": [
            "Elliot\n",
            "Ameena\n",
            "Jason\n",
            "Devika\n",
            "Fayyad\n",
            "Munana\n"
          ],
          "name": "stdout"
        }
      ]
    },
    {
      "cell_type": "code",
      "metadata": {
        "id": "mlgOF0zTDMx6",
        "colab": {
          "base_uri": "https://localhost:8080/",
          "height": 67
        },
        "outputId": "29aaee82-9b88-4e8e-a0e0-b915ee900f94"
      },
      "source": [
        "#FAYYAD'S CODE\n",
        "colors = ['Red', 'Orange', 'Yellow', 'Green', 'Blue', 'Indigo', 'Purple', 'Black', 'White']\n",
        "i=0\n",
        "for name in colors:\n",
        "  if i == 4:\n",
        "    i = i + 1\n",
        "    continue\n",
        "  elif i == 7:\n",
        "    break \n",
        "  print(name, end=' ')\n",
        "  i=i+1\n",
        "#>>>>>>>\n",
        "print() \n",
        "print(\"the LAST VALUE in NAME variable is\",name)\n",
        "print(\"the LAST VALUE in i variable is\",i)\n",
        "# name: -, -, -, -, -, -, -,Black\n",
        "# i: -, -, -,-,-,-,-,7\n",
        "# colors:['Red', 'Orange', 'Yellow', 'Green', 'Blue', 'Indigo',  'Purple', X'Black', 'White']"
      ],
      "execution_count": null,
      "outputs": [
        {
          "output_type": "stream",
          "text": [
            "Red Orange Yellow Green Indigo Purple \n",
            "the LAST VALUE in NAME variable is Black\n",
            "the LAST VALUE in i variable is 7\n"
          ],
          "name": "stdout"
        }
      ]
    },
    {
      "cell_type": "code",
      "metadata": {
        "id": "fObPU4MQzcH9"
      },
      "source": [
        ""
      ],
      "execution_count": null,
      "outputs": []
    },
    {
      "cell_type": "code",
      "metadata": {
        "id": "f6t89n43WTVM"
      },
      "source": [
        "colors = ['Red', 'Orange', 'Yellow', 'Green', 'Blue', 'Indigo', 'Purple', 'Black', 'White','Brown'] #len(colors)\n",
        "#use a while or a for loop and\n",
        "#change all colors to white: 'WHITE' in the colors array\n",
        "\n",
        "#loop over the colors array and print all the colors, one below the other\n",
        "\n",
        "#2 loops total\n",
        "#1st loop to change the color\n",
        "#2nd loop to display colors separate lines\n",
        "#example:\n",
        "#xy = ['some string1', 'something2', \"Jason\", \"Devika\",\"Rahul\", \"Munana\"]\n",
        "# xy[4] = \"Fayyad\"\n",
        "\n"
      ],
      "execution_count": null,
      "outputs": []
    },
    {
      "cell_type": "code",
      "metadata": {
        "id": "Ch89IKwZgMcs",
        "colab": {
          "base_uri": "https://localhost:8080/",
          "height": 33
        },
        "outputId": "2c54d880-1ca8-4520-e363-7cb2b082d3c7"
      },
      "source": [
        "array = [32, 'Orange', 'Yellow', 4.5, '5.6', [1,2,3], True, 'Black', False,'Brown'] #2Dimensional array\n",
        "\n",
        "print(array[5])\n",
        "\n",
        "numbers=[1,2,3]"
      ],
      "execution_count": null,
      "outputs": [
        {
          "output_type": "stream",
          "text": [
            "[1, 2, 3]\n"
          ],
          "name": "stdout"
        }
      ]
    },
    {
      "cell_type": "code",
      "metadata": {
        "id": "wH3PYrgQYp3X",
        "colab": {
          "base_uri": "https://localhost:8080/",
          "height": 67
        },
        "outputId": "d6e2b444-b8c5-4cbf-e243-8b55f3714c2d"
      },
      "source": [
        "            # ar0       ar1        ar2\n",
        "numbers=[ [1,2,3], [4,5,6,12], [7,8,9] ] #2D array\n",
        "i=len(numbers)-1\n",
        "while i>=0:\n",
        "  j = len(numbers[i])-1\n",
        "  while j>=0:\n",
        "    print(numbers[i][j], end=\" \")\n",
        "    j=j-1\n",
        "  print() #new line\n",
        "  i=i-1\n",
        "\n",
        "\n",
        "# i: -,1\n",
        "# j: -,-,1\n",
        "\n"
      ],
      "execution_count": null,
      "outputs": [
        {
          "output_type": "stream",
          "text": [
            "9 8 7 \n",
            "12 6 5 4 \n",
            "3 2 1 \n"
          ],
          "name": "stdout"
        }
      ]
    },
    {
      "cell_type": "code",
      "metadata": {
        "id": "Stbu8sbqA0dv",
        "colab": {
          "base_uri": "https://localhost:8080/",
          "height": 50
        },
        "outputId": "1bdb75b2-98ce-48ca-b0fd-5af0064db9fc"
      },
      "source": [
        "list1 = [2,4,5,6,7]\n",
        "# print(\"Size of the list=\", len(list1))\n",
        "#APPEND\n",
        "list1.append(8) #add some data to the end of the list/array\n",
        "list1.append(\"Ashwin\") \n",
        "list1.append(\"Ameena\")\n",
        "list1.append(3.45)\n",
        "# print(\"Size of the list=\", len(list1))\n",
        "# print(list1)\n",
        "\n",
        "#CLEAR\n",
        "list1.clear() #clears or removes all elements from the list\n",
        "# print(\"List1 after clear:\", list1)\n",
        "list1 = [2,4,5,6,7]\n",
        "\n",
        "#POP\n",
        "list1.append(\"Ashwin\")\n",
        "# print(list1)\n",
        "# print(list1.pop())  #POP removes the last element from the list\n",
        "# print(list1.pop(2))   #pop( input ), the input is the index in the array/list\n",
        "# print(list1)\n",
        "\n",
        "#REMOVE - removes the first occurence of that value, input=value\n",
        "list1 = [\"ashwin\",4,\"ameena\",6,\"devika\",4.5,\"ameena\", \"ameena\",4,4,4,4,4,4]\n",
        "list1.remove(4) #value\n",
        "# print(\"after removing 4\",list1)\n",
        "# list1.pop(4)  #index\n",
        "# print(list1)\n",
        "\n",
        "#DEL\n",
        "list1 = [\"ashwin\",4,\"ameena\",6,\"devika\",4.5]\n",
        "del list1[2]\n",
        "# print(list1)\n",
        "del list1\n",
        "# print(\"list1 after del\", list1)\n",
        "\n",
        "\n",
        "#INSERT (adds data in between the list, input=index)\n",
        "list1 = [\"ashwin\",4,\"ameena\",6,\"devika\",4.5]\n",
        "# list1.insert(2,\"Elizabeth\")\n",
        "# print(list1)\n",
        "\n",
        "#for loop to find the value 4 in the list1\n",
        "\n",
        "# for x in list1:\n",
        "#   print(x,\"==\",\"devika\", x==\"devika\")\n",
        "#   if x==\"devika\":\n",
        "#     print(True)\n",
        "#     break\n",
        "\n",
        "# if \"devika\" in list1: print(True) #short-hand ifs\n",
        "\n",
        "list1 = [1,2,3]\n",
        "list2 = [\"a\",'b','c']\n",
        "#use a loop to keep appending to the end of list1\n",
        "#add data from list2\n",
        "#so, iterate/loop thru list2 and add to list1 and finally print list1\n",
        "#output: 1,2,3,a,b,c\n",
        "\n",
        "#for each variable in list2, append that var to list1\n",
        "# for var in list2:\n",
        "#   list1.append(var)\n",
        "# list3 = list1 + list2\n",
        "list1.extend(list2) # appendALL elements of list2,; input = a new list\n",
        "# print(list1)\n",
        "\n",
        "\n",
        "#SORT\n",
        "list1 = [5,1,6,2,3,9,0,8] #sorted?\n",
        "list1.sort()\n",
        "# print(list1)\n",
        "\n",
        "#INDEX(input=value)\n",
        "list1 = [\"ashwin\",4,\"ameena\",6,\"devika\",4.5,\"ameena\",\"ameena\"]\n",
        "# print(list1.index(\"ameena\"))  #First occurence of the input-value\n",
        "\n",
        "#for loop to find the number of \"ameenas\" in list1; loop thru list1\n",
        "#variable count, increase count every time you see ameena\n",
        "#print count\n",
        "\n",
        "#for each var in list1, if that var == \"ameena\" then increase count by 1\n",
        "# count=0\n",
        "# list1.append(\"ameena\")\n",
        "# for var in list1:\n",
        "#   if var==\"ameena\":\n",
        "#     count = count+1\n",
        "# print(count)\n",
        "\n",
        "# print(list1.count(\"ameena\"))  #count() is a method(), function()\n",
        "\n",
        "print(list1)\n",
        "list1.reverse() #reverses the list\n",
        "print(list1)\n",
        "\n"
      ],
      "execution_count": null,
      "outputs": [
        {
          "output_type": "stream",
          "text": [
            "['ashwin', 4, 'ameena', 6, 'devika', 4.5, 'ameena', 'ameena']\n",
            "['ameena', 'ameena', 4.5, 'devika', 6, 'ameena', 4, 'ashwin']\n"
          ],
          "name": "stdout"
        }
      ]
    },
    {
      "cell_type": "code",
      "metadata": {
        "id": "xK-13O7tGLV9",
        "colab": {
          "base_uri": "https://localhost:8080/",
          "height": 50
        },
        "outputId": "746cce81-95c7-474d-f83c-6cdec3de97a5"
      },
      "source": [
        "#Strings are also lists/arrays\n",
        "x = \"EliZaBeth\" #array/list\n",
        "# print(x[3])\n",
        "#loop through x which is a string and print as shown below, \"end=\"\n",
        "#E, l, i, z, a, b, e, t, h, \n",
        "\n",
        "#for each letter in String x, print letter, \n",
        "# for letter in x:\n",
        "#   print(letter, end=\", \")\n",
        "\n",
        "i=0\n",
        "# print(x[0],x[1],x[2],x[3],x[4],x[5],x[6],x[7],x[8])\n",
        "# while i<len(x):\n",
        "#   print(x[i], end=\", \")\n",
        "#   i+=1\n",
        "\n",
        "# x = x + \" Ameena\"\n",
        "# x = x.strip() #STRIP removes extra spaces from the beginning and the end\n",
        "# print(len(x), x)\n",
        "\n",
        "# x = x.lower()\n",
        "# x = x.upper()\n",
        "# print(x)\n",
        "\n",
        "#Elisabeth\n",
        "# print(x.index(\"z\"))\n",
        "# x[3] = 's' #this wont work, throws error\n",
        "# x = x.replace(\"z\",\"s\")  #replaces all occurences of a character with the given character\n",
        "print(x)\n",
        "print(x.swapcase()) # swaps the case upper to lower, lower to upper case"
      ],
      "execution_count": null,
      "outputs": [
        {
          "output_type": "stream",
          "text": [
            "EliZaBeth\n",
            "eLIzAbETH\n"
          ],
          "name": "stdout"
        }
      ]
    },
    {
      "cell_type": "code",
      "metadata": {
        "id": "A-SjC_bdmIb0",
        "colab": {
          "base_uri": "https://localhost:8080/",
          "height": 50
        },
        "outputId": "6c4b0f24-1394-421f-9c82-87ca56799aef"
      },
      "source": [
        "string = \"Jason is Very smart\"\n",
        "#find \"very\" in the string, True False\n",
        "#is very in the string? -> Yes or No\n",
        "string=string.swapcase();\n",
        "print(string)\n",
        "#in, not in\n",
        "b = \"Ameena\" not in string\n",
        "print(b)\n"
      ],
      "execution_count": null,
      "outputs": [
        {
          "output_type": "stream",
          "text": [
            "jASON IS vERY SMART\n",
            "True\n"
          ],
          "name": "stdout"
        }
      ]
    },
    {
      "cell_type": "code",
      "metadata": {
        "id": "cpwug_P9nZ3M",
        "colab": {
          "base_uri": "https://localhost:8080/",
          "height": 33
        },
        "outputId": "9d297bbb-76fc-4dce-c2cf-0b56f1011daf"
      },
      "source": [
        "#FORMAT\n",
        "string=\"ashwin age is {}, and he scored {} in the test, and he eats {} ice creams a day.\"\n",
        "age=12\n",
        "score=[99.999, 9,\"wooohooo\"]\n",
        "icecreams=20\n",
        "string = string.format(age, score, icecreams)\n",
        "# print(string)\n",
        "# print(type(score))\n",
        "\n",
        "string = string.capitalize()\n",
        "# print(string)\n",
        "\n",
        "# print(string.index(\"he\")) #first occurence of input-value = he\n",
        "# print(string.find(\"he\"))  #similar to index(input)\n",
        "\n",
        "string1 = \"ashwin\"\n",
        "# print(string1.endswith(\"win\"))\n",
        "# print(string1.islower())\n",
        "# print(string1.isupper())\n",
        "\n",
        "string2 = \"123123123\"\n",
        "# 5 #digit? \n",
        "# print(string2.isdigit())  #gives True if all the characters are numbers/digits\n",
        "\n",
        "print(string)\n",
        "# string.count(\"[\")\n",
        "\n"
      ],
      "execution_count": null,
      "outputs": [
        {
          "output_type": "stream",
          "text": [
            "Ashwin age is 12, and he scored [99.999, 9, 'wooohooo'] in the test, and he eats 20 ice creams a day.\n"
          ],
          "name": "stdout"
        }
      ]
    },
    {
      "cell_type": "code",
      "metadata": {
        "id": "D0NhfLXK8WkB",
        "colab": {
          "base_uri": "https://localhost:8080/",
          "height": 84
        },
        "outputId": "3d73d6eb-cd3c-44a3-b753-622c42059123"
      },
      "source": [
        "          -6,-5,-4,-3,-2,-1,0,1,2,3,4,5,6\n",
        "          \n",
        "          \"012345\"  #positive index\n",
        "          \"654321\"  #negative index\n",
        "string1 = \"ashwin\"\n",
        "print(string1[1:-2]) #substring/ splicing\n",
        "print(string1[1:4]) #substring/ splicing\n",
        "print(string1[-5:4])\n",
        "print(string1[-5:-2])\n"
      ],
      "execution_count": null,
      "outputs": [
        {
          "output_type": "stream",
          "text": [
            "shw\n",
            "shw\n",
            "shw\n",
            "shw\n"
          ],
          "name": "stdout"
        }
      ]
    },
    {
      "cell_type": "code",
      "metadata": {
        "id": "ElIrR6nVCj69",
        "colab": {
          "base_uri": "https://localhost:8080/",
          "height": 33
        },
        "outputId": "1a82ed84-c126-469c-cd55-a4b035d727cd"
      },
      "source": [
        "#FUNCTIONS/ METHODS\n",
        "#range(start, end)\n",
        "#append(val)\n",
        "#print(inputssss)\n",
        "#inputs are called parameters/ arguments of the function/method/procedure\n",
        "def ashwinFunc():\n",
        "  string = \" and I am tall!\"\n",
        "  string2 = \", and i am {} years old...\"\n",
        "  age = 12.3\n",
        "  print(\"My name is Ashwin\" + string + string2.format(age))\n",
        "  \n",
        "\n",
        "ashwinFunc()"
      ],
      "execution_count": null,
      "outputs": [
        {
          "output_type": "stream",
          "text": [
            "My name is Ashwin and I am tall!, and i am 12 years old...\n"
          ],
          "name": "stdout"
        }
      ]
    },
    {
      "cell_type": "code",
      "metadata": {
        "id": "f55NTifXEaHd",
        "colab": {
          "base_uri": "https://localhost:8080/",
          "height": 150
        },
        "outputId": "fc36b29f-218b-40b8-8367-e9f1265f8974"
      },
      "source": [
        "def showString(name, age):  #definition of method\n",
        "  txt = \"and my age is {}\"\n",
        "  txt = txt.format(age)\n",
        "  print(\"My name is\",name, txt)\n",
        "\n",
        "#call the above func\n",
        "\n",
        "def loopFunc():\n",
        "  ages = [11,12,13,15,18,11,12,14]\n",
        "  names=[\"Ameena\",\"Ashwin\",\"Fayyad\",\"Elizabeth\",\"Elliot\",\"Rahul\",\"Jason\",\"Devika\"]\n",
        "  i = 0\n",
        "  while i < len(ages):\n",
        "    showString(names[i], ages[i]) #call of the method\n",
        "    i=i+1\n",
        " \n",
        " #i: -,-,-,8\n",
        "loopFunc()\n",
        "#def loopFunc(): #no parameters\n",
        "# while loop and loop thru both arrays and call showString(input1, input2)\n",
        "#call showString in a while loop INSIDE your loopFunc():"
      ],
      "execution_count": null,
      "outputs": [
        {
          "output_type": "stream",
          "text": [
            "My name is Ameena and my age is 11\n",
            "My name is Ashwin and my age is 12\n",
            "My name is Fayyad and my age is 13\n",
            "My name is Elizabeth and my age is 15\n",
            "My name is Elliot and my age is 18\n",
            "My name is Rahul and my age is 11\n",
            "My name is Jason and my age is 12\n",
            "My name is Devika and my age is 14\n"
          ],
          "name": "stdout"
        }
      ]
    },
    {
      "cell_type": "code",
      "metadata": {
        "id": "tABuwkh6a_7-",
        "colab": {
          "base_uri": "https://localhost:8080/",
          "height": 184
        },
        "outputId": "38629dba-58b9-4e44-e7f1-b60191d912c3"
      },
      "source": [
        "x = 31\n",
        "def showString(name, age):\n",
        "  txt = \"and my age is {}\"\n",
        "  txt = txt.format(age)\n",
        "  print(\"My name is\",name, txt)\n",
        "def loopFunc():\n",
        "  ages = [11,12,13,15,18,11,12,14]\n",
        "  names=[\"Ameena\",\"Ashwin\",\"Fayyad\",\"Elizabeth\",\"Elliot\",\"Rahul\",\"Jason\",\"Devika\"]\n",
        "  x=0\n",
        "  print(\"local x=\",x)\n",
        "  while x < len(ages):\n",
        "    showString(names[x], ages[x])\n",
        "    x = x + 1\n",
        "\n",
        "print(\"global x=\",x)\n",
        "loopFunc()"
      ],
      "execution_count": null,
      "outputs": [
        {
          "output_type": "stream",
          "text": [
            "global x= 31\n",
            "local x= 0\n",
            "My name is Ameena and my age is 11\n",
            "My name is Ashwin and my age is 12\n",
            "My name is Fayyad and my age is 13\n",
            "My name is Elizabeth and my age is 15\n",
            "My name is Elliot and my age is 18\n",
            "My name is Rahul and my age is 11\n",
            "My name is Jason and my age is 12\n",
            "My name is Devika and my age is 14\n"
          ],
          "name": "stdout"
        }
      ]
    },
    {
      "cell_type": "code",
      "metadata": {
        "id": "rSXMZwZ3bizF",
        "colab": {
          "base_uri": "https://localhost:8080/",
          "height": 100
        },
        "outputId": "26f60d37-a930-416b-c425-cbab75526701"
      },
      "source": [
        "def multiply(n1, n2):\n",
        "  return n1*n2\n",
        "def addition(n1,n2):\n",
        "  return n1+n2\n",
        "def division(n1,n2):\n",
        "  return n1/n2\n",
        "def subtraction(n1,n2):\n",
        "  return n1-n2\n",
        "def calculator(n1, n2, operation):\n",
        "  if operation == \"add\":\n",
        "    return addition(n1,n2)\n",
        "  elif operation ==\"multiply\":\n",
        "    return multiply(n1,n2)\n",
        "  elif operation==\"divide\":\n",
        "    return division(n1,n2)\n",
        "  elif operation==\"subtract\":\n",
        "    return subtraction(n1,n2)\n",
        "  else:\n",
        "    return \"WRONG OPERATION\"\n",
        "  \n",
        "x=6\n",
        "y=4\n",
        "adder = calculator(x,y,\"add\")\n",
        "muler = calculator(x,y,\"multiply\")\n",
        "diver = calculator(x,y,\"divide\")\n",
        "suber = calculator(x,y,\"subtract\")\n",
        "rando = calculator(x,y,\"blahblah\")\n",
        "\n",
        "print(\"add=\",adder)\n",
        "print(\"mul=\",muler)\n",
        "print(\"div=\",diver)\n",
        "print(\"sub=\",suber)\n",
        "print(\"rand=\", rando)\n",
        "\n",
        "\n",
        "# mul = multiply(2,4)\n",
        "# print(mul, type(mul))\n",
        "\n",
        "\n",
        "\n",
        "\n",
        "#def calculator():\n",
        "# n1, n2, operation -> 3 parameters\n",
        "# operation : 'add', 'subtract', 'multiply', 'divide'\n",
        "#calc(3,4,'add')\n",
        "#print al these variables\n",
        "\n"
      ],
      "execution_count": null,
      "outputs": [
        {
          "output_type": "stream",
          "text": [
            "add= 10\n",
            "mul= 24\n",
            "div= 1.5\n",
            "sub= 2\n",
            "rand= WRONG OPERATION\n"
          ],
          "name": "stdout"
        }
      ]
    },
    {
      "cell_type": "code",
      "metadata": {
        "id": "2wnu1hP1kAmy",
        "colab": {
          "base_uri": "https://localhost:8080/",
          "height": 100
        },
        "outputId": "328a1479-fc44-404f-aa0b-41a6a55f63b3"
      },
      "source": [
        "# ANSWER 1:\n",
        "# 1 \n",
        "# 2 2 \n",
        "# 3 3 3 \n",
        "# 4 4 4 4 \n",
        "\n",
        "def myPatternFunction(number):\n",
        "  num = 0\n",
        "  for i in range(0, number):\n",
        "    num += 1\n",
        "    for j in range (0, i+1):\n",
        "      print(num, end=\" \")\n",
        "    print()\n",
        "\n",
        "myPatternFunction(5)\n"
      ],
      "execution_count": null,
      "outputs": [
        {
          "output_type": "stream",
          "text": [
            "1 \n",
            "2 2 \n",
            "3 3 3 \n",
            "4 4 4 4 \n",
            "5 5 5 5 5 \n"
          ],
          "name": "stdout"
        }
      ]
    },
    {
      "cell_type": "code",
      "metadata": {
        "id": "7mtZYfplxGf0",
        "colab": {
          "base_uri": "https://localhost:8080/",
          "height": 167
        },
        "outputId": "87fcc541-f9b8-43e6-ba16-b79551f9a0b5"
      },
      "source": [
        "#ANSWER 2\n",
        "# 1 2 3 4 5 \n",
        "# 1 2 3 4 \n",
        "# 1 2 3 \n",
        "# 1 2 \n",
        "# 1 \n",
        "def myPatternFunctionInverted(number):\n",
        "  for i in range(number, 0 , -1):\n",
        "    for j in range(1, i+1):\n",
        "      print(j, end=\" \")\n",
        "    print()\n",
        "\n",
        "myPatternFunctionInverted(9)\n",
        "\n"
      ],
      "execution_count": null,
      "outputs": [
        {
          "output_type": "stream",
          "text": [
            "1 2 3 4 5 6 7 8 9 \n",
            "1 2 3 4 5 6 7 8 \n",
            "1 2 3 4 5 6 7 \n",
            "1 2 3 4 5 6 \n",
            "1 2 3 4 5 \n",
            "1 2 3 4 \n",
            "1 2 3 \n",
            "1 2 \n",
            "1 \n"
          ],
          "name": "stdout"
        }
      ]
    },
    {
      "cell_type": "code",
      "metadata": {
        "id": "XtoMNvelypsf",
        "colab": {
          "base_uri": "https://localhost:8080/",
          "height": 50
        },
        "outputId": "297e5612-7c8a-4e6d-cb93-9ef8f3baadcf"
      },
      "source": [
        "#ANSWER 3:\n",
        "list1 = [3,4,5,2,'a','f',\"ash\", 4.4,'s',True]\n",
        "\n",
        "def myListLen(list1):\n",
        "  count=0\n",
        "  for var in list1:\n",
        "    count+=1\n",
        "  return count\n",
        "\n",
        "print(\"my list len function:\",myListLen(list1))\n",
        "print(\"Python list len func:\", len(list1))"
      ],
      "execution_count": null,
      "outputs": [
        {
          "output_type": "stream",
          "text": [
            "my list len function: 10\n",
            "Python list len func: 10\n"
          ],
          "name": "stdout"
        }
      ]
    },
    {
      "cell_type": "code",
      "metadata": {
        "id": "bxOEp_2TyPh_",
        "colab": {
          "base_uri": "https://localhost:8080/",
          "height": 33
        },
        "outputId": "9b2ca9f7-e720-43a6-f3f7-b54d75f15e23"
      },
      "source": [
        "# ANSWER 4\n",
        "#for each var in list if the val == var return its index\n",
        "def myIndex(list1, val):\n",
        "  index=0\n",
        "  for var in list1:\n",
        "    if val == var:\n",
        "      return index\n",
        "    index+=1\n",
        "\n",
        "\n",
        "list1 = [3,4,5,2,'a','f',\"ash\", 4.4,'a']\n",
        "myIndex(list1, 'a')"
      ],
      "execution_count": null,
      "outputs": [
        {
          "output_type": "execute_result",
          "data": {
            "text/plain": [
              "4"
            ]
          },
          "metadata": {
            "tags": []
          },
          "execution_count": 36
        }
      ]
    },
    {
      "cell_type": "code",
      "metadata": {
        "id": "B_Y6-gQu1cRn",
        "colab": {
          "base_uri": "https://localhost:8080/",
          "height": 33
        },
        "outputId": "600accff-bcfd-42e5-a3c4-ea385f969a6b"
      },
      "source": [
        "# ANSWER 5\n",
        "#count() in string\n",
        "def countCharacter(string1, char):\n",
        "  count=0\n",
        "  for x in string1:\n",
        "    if char == x:\n",
        "      count+=1\n",
        "  return count\n",
        "\n",
        "countCharacter(\"eeefheeeelleoeee\", \"e\")"
      ],
      "execution_count": null,
      "outputs": [
        {
          "output_type": "execute_result",
          "data": {
            "text/plain": [
              "11"
            ]
          },
          "metadata": {
            "tags": []
          },
          "execution_count": 38
        }
      ]
    },
    {
      "cell_type": "code",
      "metadata": {
        "id": "Q-gXs0HNFbxo",
        "colab": {
          "base_uri": "https://localhost:8080/",
          "height": 50
        },
        "outputId": "bde2ad86-c1ea-4cae-b590-fdb9d4b77b6d"
      },
      "source": [
        "#ANSWER 6\n",
        "# Create a method “def WeighingScale(weight):“\n",
        "# That takes a ‘weight’ input parameter and prints the following\n",
        "# If the weight is less than 50.3 then print “Underweight”\n",
        "# If the weight is between 50.4 and 121.5 print “Normal”\n",
        "# If the weight is more than 200.2 print “obese”\n",
        "# Otherwise print “overweight”\n",
        "\n",
        "def weighingScale(weight):\n",
        "  if weight<50.3:\n",
        "    print(\"Underweight\")\n",
        "  elif weight>=50.4 and weight<=121.5:\n",
        "    print(\"Normal\")\n",
        "  elif weight>200.2:\n",
        "    print(\"Obese\")\n",
        "  else:#121.6---200.1\n",
        "    print(\"Overweight\")\n",
        "\n",
        "#0---50.3 50.4-----121.5    200.2------>>>>\n",
        "# var=weighingScale(6)\n",
        "print(type(weighingScale(6)))\n",
        "# print(\"50.2->\", weighingScale(50.2))\n",
        "# print(\"50.4->\", weighingScale(50.4))\n",
        "# print(\"200.3->\", weighingScale(200.3))\n",
        "# print(\"121.6\", weighingScale(121.6))\n",
        "# print(\"200.1->\", weighingScale(200.1))\n",
        "\n",
        "#50.2-> Underweight"
      ],
      "execution_count": null,
      "outputs": [
        {
          "output_type": "stream",
          "text": [
            "Underweight\n",
            "<class 'NoneType'>\n"
          ],
          "name": "stdout"
        }
      ]
    },
    {
      "cell_type": "code",
      "metadata": {
        "id": "yS_-5SrTIg4y",
        "colab": {
          "base_uri": "https://localhost:8080/",
          "height": 33
        },
        "outputId": "941763ea-a5cc-4460-c42f-351355701f5a"
      },
      "source": [
        "def add(a,b):\n",
        "  return a+b\n",
        "#Return gives/returns a value that can be assigned to any variable\n",
        "\n",
        "def noReturn(a,b):\n",
        "  print(a+b)\n",
        "\n",
        "x = add(2,4)\n",
        "\n",
        "#void is the return type. nothing to return\n",
        "#when a func has nothing to return, its called a void func 'None'\n",
        "# 1. name of the variable :?\n",
        "# 2. type of the variable :?\n",
        "# 3. value in the variable :?\n",
        "string1 = \"print-x\" #this one\n",
        "#all parameters in a function are variables? YES\n",
        "\n",
        "def someMathFunc(a,b):  #re-used\n",
        "  sum=0\n",
        "  for x in range(0,12):\n",
        "    sum += x*a\n",
        "    a = b*a\n",
        "  return sum\n",
        "  \n",
        "def anotherMathFunc(a):\n",
        "  b = a\n",
        "  for i in range(44, 88):\n",
        "    b=b-i\n",
        "  return b\n",
        "\n",
        "def func3(a):\n",
        "  return (a- 44)/5\n",
        "\n",
        "var = someMathFunc(2,4)\n",
        "\n",
        "anotherVar = var*4/12\n",
        "\n",
        "anotherVar2 = func3(anotherVar)\n",
        "\n",
        "anotherVar3 = anotherMathFunc(anotherVar2)\n",
        "\n",
        "x = anotherMathFunc(anotherVar3)\n",
        "\n",
        "y= anotherMathFunc(x)\n",
        "\n",
        "print(y) #x??????????????????????????????????????????????\n",
        "\n"
      ],
      "execution_count": null,
      "outputs": [
        {
          "output_type": "stream",
          "text": [
            "7944988.4\n"
          ],
          "name": "stdout"
        }
      ]
    },
    {
      "cell_type": "code",
      "metadata": {
        "id": "rHhVLaiVMf7O",
        "colab": {
          "base_uri": "https://localhost:8080/",
          "height": 67
        },
        "outputId": "2a30c3d5-198b-499e-d644-7b27e876dc81"
      },
      "source": [
        "numbers=[ [1,2,3], [4,5,6], [7,8,9] ] #2D array\n",
        "# Use 2 nested loops (2 while loops one inside the other) to print\n",
        "# 3 2 1\n",
        "# 6 5 4\n",
        "# 9 8 7\n",
        "\n",
        "for i in range(0, len(numbers)):\n",
        "  for j in range(len(numbers[i]) - 1, -1, -1):\n",
        "    print(numbers[i][j], end=\" \")\n",
        "  print()\n",
        "\n"
      ],
      "execution_count": null,
      "outputs": [
        {
          "output_type": "stream",
          "text": [
            "3 2 1 \n",
            "6 5 4 \n",
            "9 8 7 \n"
          ],
          "name": "stdout"
        }
      ]
    },
    {
      "cell_type": "code",
      "metadata": {
        "id": "DB89zsNRcoMH",
        "colab": {
          "base_uri": "https://localhost:8080/",
          "height": 33
        },
        "outputId": "a2b08f21-6ceb-45ff-d6c0-5de989d2c467"
      },
      "source": [
        "def returnListFunc():\n",
        "  list1 = [2,3,4,1]\n",
        "  return list1\n",
        "\n",
        "#lists are also variables that have many variables inside it\n",
        "\n",
        "# for x in [3,4,7,9,2]:\n",
        "  # print(x)\n",
        "\n",
        "# list2 = returnListFunc()\n",
        "# print(list2)\n",
        "\n",
        "# Create a myRange(start, end)\n",
        "\n",
        "#what type should myRange() return to be able to looop\n",
        "for x in myRange(3,7): #myRange(3,10) -> range(3,10)\n",
        "  print(x, end=\" \") #must print 3 4 5 6 7 8 9\n",
        "\n",
        "#output:\n",
        "#def myRange(3,10)\n",
        "#3 4 5 6 7 8 9"
      ],
      "execution_count": null,
      "outputs": [
        {
          "output_type": "stream",
          "text": [
            "3 4 5 6 "
          ],
          "name": "stdout"
        }
      ]
    },
    {
      "cell_type": "code",
      "metadata": {
        "id": "1vinBj63lX5u",
        "colab": {
          "base_uri": "https://localhost:8080/",
          "height": 33
        },
        "outputId": "87aeb556-3b85-4360-85a1-94b009d8a6be"
      },
      "source": [
        "#myRANGE()\n",
        "#start:3\n",
        "#someList : 2,3,4,\n",
        "#positive/ negative jump\n",
        "def myRange(start, end, jump):\n",
        "  someList=[]\n",
        "  boolean = jump < 0 and start > end\n",
        "  if boolean:\n",
        "    while start>end:\n",
        "      someList.append(start)\n",
        "      start = start + jump\n",
        "    return someList\n",
        "  else:\n",
        "    while start<end:\n",
        "      someList.append(start)\n",
        "      start+=jump\n",
        "    return someList  \n",
        "\n",
        "for x in myRange(-4,-20,-4):\n",
        "  print(x, end=\" \")\n",
        "\n"
      ],
      "execution_count": null,
      "outputs": [
        {
          "output_type": "stream",
          "text": [
            "-4 -8 -12 -16 "
          ],
          "name": "stdout"
        }
      ]
    },
    {
      "cell_type": "code",
      "metadata": {
        "id": "BozK3vvDt2j4",
        "colab": {
          "base_uri": "https://localhost:8080/",
          "height": 33
        },
        "outputId": "e260449d-e8f9-41c7-9fb3-53883d29e964"
      },
      "source": [
        "def myRange(start, end, interval):\n",
        "  list1 = []\n",
        "  x = start\n",
        "  if interval > 0:\n",
        "    while x < end:\n",
        "      list1.append(x)\n",
        "      x = x + interval\n",
        "  elif interval < 0:\n",
        "   while x > end:\n",
        "    list1.append(x)\n",
        "    x = x + interval \n",
        "  return list1\n",
        "for x in myRange(-4, -20, -4):\n",
        "  print(x, end = \" \")"
      ],
      "execution_count": null,
      "outputs": [
        {
          "output_type": "stream",
          "text": [
            "-4 -8 -12 -16 "
          ],
          "name": "stdout"
        }
      ]
    },
    {
      "cell_type": "code",
      "metadata": {
        "id": "74KxXA2GeCKp",
        "colab": {
          "base_uri": "https://localhost:8080/",
          "height": 100
        },
        "outputId": "e3918a86-1af1-45d0-8d6c-a47fcd74f678"
      },
      "source": [
        "# ANSWER 1:\n",
        "# 1 \n",
        "# 2 2 \n",
        "# 3 3 3 \n",
        "# 4 4 4 4 \n",
        "\n",
        "def myPatternFunction(number):\n",
        "  num = 0\n",
        "  for i in myRange(0, number):\n",
        "    num += 1\n",
        "    for j in range(0, i+1):\n",
        "      print(num, end=\" \")\n",
        "    print()\n",
        "\n",
        "myPatternFunction(5)"
      ],
      "execution_count": null,
      "outputs": [
        {
          "output_type": "stream",
          "text": [
            "1 \n",
            "2 2 \n",
            "3 3 3 \n",
            "4 4 4 4 \n",
            "5 5 5 5 5 \n"
          ],
          "name": "stdout"
        }
      ]
    }
  ]
}